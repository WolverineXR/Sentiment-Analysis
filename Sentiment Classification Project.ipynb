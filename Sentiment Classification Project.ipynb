{
 "cells": [
  {
   "cell_type": "code",
   "execution_count": 1,
   "metadata": {},
   "outputs": [],
   "source": [
    "#loading reviews and labels\n",
    "f = open('reviews.txt')\n",
    "reviews = list(map(lambda x:x[:-1], f.readlines()))\n",
    "f.close()\n",
    "\n",
    "f = open('labels.txt')\n",
    "labels = list(map(lambda x:x[:-1], f.readlines()))\n",
    "f.close()\n",
    "\n",
    "def print_review_and_label(n):\n",
    "    print(labels[n] + \" :\\t\\t\" + reviews[n][:80] + \"...\")"
   ]
  },
  {
   "cell_type": "code",
   "execution_count": 2,
   "metadata": {},
   "outputs": [
    {
     "data": {
      "text/plain": [
       "(25000, 25000)"
      ]
     },
     "execution_count": 2,
     "metadata": {},
     "output_type": "execute_result"
    }
   ],
   "source": [
    "len(reviews), len(labels)"
   ]
  },
  {
   "cell_type": "code",
   "execution_count": 3,
   "metadata": {},
   "outputs": [
    {
     "name": "stdout",
     "output_type": "stream",
     "text": [
      "negative :\t\tstory of a man who has unnatural feelings for a pig . starts out with a opening ...\n",
      "positive :\t\ti avoided watching this film for the longest time . long before it was even rele...\n",
      "positive :\t\tthis is a fascinating account of the hunt for the soviet union  s first known se...\n",
      "negative :\t\tok when i saw the previews for this movie i thought it looked really scary and w...\n",
      "negative :\t\tthis movie was terrible . throughout the whole movie  i was puzzled and did not ...\n"
     ]
    }
   ],
   "source": [
    "print_review_and_label(1)\n",
    "print_review_and_label(102)\n",
    "print_review_and_label(3004)\n",
    "print_review_and_label(6543)\n",
    "print_review_and_label(4341)"
   ]
  }
 ],
 "metadata": {
  "kernelspec": {
   "display_name": "Python 3",
   "language": "python",
   "name": "python3"
  },
  "language_info": {
   "codemirror_mode": {
    "name": "ipython",
    "version": 3
   },
   "file_extension": ".py",
   "mimetype": "text/x-python",
   "name": "python",
   "nbconvert_exporter": "python",
   "pygments_lexer": "ipython3",
   "version": "3.5.6"
  }
 },
 "nbformat": 4,
 "nbformat_minor": 2
}
